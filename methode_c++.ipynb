{
 "cells": [
  {
   "cell_type": "markdown",
   "metadata": {},
   "source": [
    " ## BuatToolhelp32Snapshot"
   ]
  },
  {
   "cell_type": "markdown",
   "metadata": {},
   "source": [
    "CreateToolhelp32Snapshot API biasanya digunakan dalam pemrograman C++ untuk menghitung proses dan modul pada sistem Windows. Meskipun ini bukan API yang terkait langsung dengan keamanan siber atau pengujian pena, API ini dapat digunakan untuk memperoleh informasi tentang proses yang berjalan, yang dapat berguna dalam konteks keamanan.\n"
   ]
  },
  {
   "cell_type": "code",
   "execution_count": null,
   "metadata": {
    "vscode": {
     "languageId": "cpp"
    }
   },
   "outputs": [],
   "source": [
    "#include <windows.h>\n",
    "#include <tlhelp32.h>\n",
    "#include <iostream>\n",
    "\n",
    "int main() {\n",
    "    //Create a snapshot of running processes\n",
    "    HANDLE hSnapshot = CreateToolhelp32Snapshot(TH32CS_SNAPPROCESS, 0);\n",
    "    if (hSnapshot == INVALID_HANDLE_VALUE) {\n",
    "        std::cerr << \"Erro ao criar o snapshot: \" << GetLastError() << std::endl;\n",
    "        return 1;\n",
    "    }\n",
    "\n",
    "    // Structure for storing information about a process\n",
    "    PROCESSENTRY32 pe32;\n",
    "    pe32.dwSize = sizeof(PROCESSENTRY32);\n",
    "\n",
    "    // Initialize the loop to enumerate the processes\n",
    "    if (Process32First(hSnapshot, &pe32)) {\n",
    "        do {\n",
    "            std::cout << \"Processo ID: \" << pe32.th32ProcessID << std::endl;\n",
    "            std::cout << \"Nome do processo: \" << pe32.szExeFile << std::endl;\n",
    "        } while (Process32Next(hSnapshot, &pe32));\n",
    "    } else {\n",
    "        std::cerr << \"Erro ao enumerar processos: \" << GetLastError() << std::endl;\n",
    "    }\n",
    "\n",
    "    // Close the snapshot\n",
    "    CloseHandle(hSnapshot);\n",
    "\n",
    "    return 0;\n",
    "}"
   ]
  },
  {
   "cell_type": "markdown",
   "metadata": {},
   "source": [
    "## DapatkanModuleFileName"
   ]
  },
  {
   "cell_type": "markdown",
   "metadata": {},
   "source": [
    "GetModuleFileName API di C++ biasanya digunakan untuk mengambil path lengkap dari file yang dapat dieksekusi dari proses yang sedang berjalan. Meskipun tidak terkait langsung dengan keamanan siber atau pengujian penetrasi, hal ini dapat berguna dalam bidang tersebut untuk mengumpulkan informasi tentang proses yang berjalan pada suatu sistem.\n",
    "\n",
    "Berikut adalah contoh kode C++ sederhana yang menunjukkan cara menggunakan GetModuleFileName API untuk mengambil path lengkap dari executable untuk proses tertentu menggunakan Process ID (PID). Informasi ini dapat berguna dalam skenario audit keamanan dan pemantauan proses."
   ]
  },
  {
   "cell_type": "code",
   "execution_count": null,
   "metadata": {
    "vscode": {
     "languageId": "cpp"
    }
   },
   "outputs": [],
   "source": [
    "#include <windows.h>\n",
    "#include <iostream>\n",
    "\n",
    "int main() {\n",
    "    DWORD processId; // Replace with the target process ID\n",
    "    HANDLE hProcess;\n",
    "\n",
    "    // Replace 'processId' with the PID of the target process\n",
    "    processId = 1234; // Example PID\n",
    "\n",
    "    // Open the target process with PROCESS_QUERY_INFORMATION and PROCESS_VM_READ access rights\n",
    "    hProcess = OpenProcess(PROCESS_QUERY_INFORMATION | PROCESS_VM_READ, FALSE, processId);\n",
    "\n",
    "    if (hProcess == NULL) {\n",
    "        std::cerr << \"Failed to open the target process. Error code: \" << GetLastError() << std::endl;\n",
    "        return 1;\n",
    "    }\n",
    "\n",
    "    char szPath[MAX_PATH];\n",
    "    DWORD dwSize = GetModuleFileNameExA(hProcess, NULL, szPath, MAX_PATH);\n",
    "\n",
    "    if (dwSize == 0) {\n",
    "        std::cerr << \"Failed to get module filename. Error code: \" << GetLastError() << std::endl;\n",
    "        CloseHandle(hProcess);\n",
    "        return 1;\n",
    "    }\n",
    "\n",
    "    std::cout << \"Full path of the executable: \" << szPath << std::endl;\n",
    "\n",
    "    // Close the process handle\n",
    "    CloseHandle(hProcess);\n",
    "\n",
    "    return 0;\n",
    "}"
   ]
  },
  {
   "cell_type": "markdown",
   "metadata": {},
   "source": [
    "## ShellExecuteEx"
   ]
  },
  {
   "cell_type": "markdown",
   "metadata": {},
   "source": [
    "ShellExecuteEx API di C++ biasanya digunakan untuk meluncurkan aplikasi eksternal dan melakukan berbagai operasi terkait file. Meskipun ini mungkin bukan alat langsung untuk pengujian keamanan siber atau penetrasi, ini dapat digunakan di bidang ini untuk tugas pembuatan skrip atau otomatisasi, seperti membuka file atau URL tertentu sebagai bagian dari penilaian. Berikut contoh sederhana penggunaan ShellExecuteEx untuk membuka halaman web:"
   ]
  },
  {
   "cell_type": "code",
   "execution_count": null,
   "metadata": {
    "vscode": {
     "languageId": "cpp"
    }
   },
   "outputs": [],
   "source": [
    "#include <windows.h>\n",
    "#include <iostream>\n",
    "\n",
    "int main() {\n",
    "    SHELLEXECUTEINFO shellInfo = {0};\n",
    "    shellInfo.cbSize = sizeof(SHELLEXECUTEINFO);\n",
    "    shellInfo.fMask = SEE_MASK_NOCLOSEPROCESS;\n",
    "    shellInfo.lpFile = L\"https://www.example.com\"; // Replace with the URL you want to open\n",
    "    shellInfo.lpVerb = L\"open\";\n",
    "    shellInfo.nShow = SW_SHOWNORMAL;\n",
    "\n",
    "    if (ShellExecuteEx(&shellInfo)) {\n",
    "        WaitForSingleObject(shellInfo.hProcess, INFINITE);\n",
    "        CloseHandle(shellInfo.hProcess);\n",
    "        std::cout << \"Web page opened successfully!\" << std::endl;\n",
    "    } else {\n",
    "        std::cerr << \"Failed to open the web page. Error code: \" << GetLastError() << std::endl;\n",
    "        return 1;\n",
    "    }\n",
    "\n",
    "    return 0;\n"
   ]
  },
  {
   "cell_type": "markdown",
   "metadata": {},
   "source": [
    "Dalam contoh ini, kami menggunakan ShellExecuteEx untuk membuka halaman web (https://www.example.com) menggunakan browser web default. Flag SEE_MASK_NOCLOSEPROCESS diatur untuk mendapatkan pegangan pada proses yang diluncurkan, dan WaitForSingleObject digunakan untuk menunggu proses selesai."
   ]
  },
  {
   "cell_type": "markdown",
   "metadata": {},
   "source": [
    "## DapatkanTokenInformasi"
   ]
  },
  {
   "cell_type": "markdown",
   "metadata": {},
   "source": [
    "GetTokenInformation API di C++ digunakan untuk mengambil informasi tentang token keamanan yang terkait dengan suatu proses atau thread. Ini dapat bermanfaat dalam pengujian keamanan siber dan penetrasi ketika Anda perlu mengumpulkan informasi tentang hak istimewa, grup, atau karakteristik lain dari token akses pengguna. Berikut ini contoh cara menggunakan GetTokenInformation untuk mengambil grup tempat pengguna berada:"
   ]
  },
  {
   "cell_type": "code",
   "execution_count": null,
   "metadata": {
    "vscode": {
     "languageId": "cpp"
    }
   },
   "outputs": [],
   "source": [
    "#include <windows.h>\n",
    "#include <iostream>\n",
    "\n",
    "int main() {\n",
    "    HANDLE hToken = NULL;\n",
    "\n",
    "    if (!OpenProcessToken(GetCurrentProcess(), TOKEN_QUERY, &hToken)) {\n",
    "        std::cerr << \"OpenProcessToken failed. Error code: \" << GetLastError() << std::endl;\n",
    "        return 1;\n",
    "    }\n",
    "\n",
    "    DWORD dwSize = 0;\n",
    "    GetTokenInformation(hToken, TokenGroups, NULL, 0, &dwSize);\n",
    "\n",
    "    if (GetLastError() != ERROR_INSUFFICIENT_BUFFER) {\n",
    "        std::cerr << \"GetTokenInformation failed (1). Error code: \" << GetLastError() << std::endl;\n",
    "        CloseHandle(hToken);\n",
    "        return 1;\n",
    "    }\n",
    "\n",
    "    PTOKEN_GROUPS pGroups = reinterpret_cast<PTOKEN_GROUPS>(new BYTE[dwSize]);\n",
    "\n",
    "    if (!GetTokenInformation(hToken, TokenGroups, pGroups, dwSize, &dwSize)) {\n",
    "        std::cerr << \"GetTokenInformation failed (2). Error code: \" << GetLastError() << std::endl;\n",
    "        delete[] pGroups;\n",
    "        CloseHandle(hToken);\n",
    "        return 1;\n",
    "    }\n",
    "\n",
    "    std::cout << \"Token Groups:\" << std::endl;\n",
    "    for (DWORD i = 0; i < pGroups->GroupCount; ++i) {\n",
    "        SID_NAME_USE sidType;\n",
    "        WCHAR szName[256];\n",
    "        DWORD cchName = sizeof(szName) / sizeof(szName[0]);\n",
    "        if (LookupAccountSidW(NULL, pGroups->Groups[i].Sid, szName, &cchName, NULL, NULL, &sidType)) {\n",
    "            std::wcout << L\"Group \" << i + 1 << L\": \" << szName << std::endl;\n",
    "        }\n",
    "    }\n",
    "\n",
    "    delete[] pGroups;\n",
    "    CloseHandle(hToken);\n",
    "\n",
    "    return 0;\n",
    "}"
   ]
  },
  {
   "cell_type": "markdown",
   "metadata": {},
   "source": [
    "Kami membuka token akses yang terkait dengan proses saat ini menggunakan OpenProcessToken.\n",
    "\n",
    "Pertama-tama kita memanggil GetTokenInformation dengan buffer NULL untuk menentukan ukuran buffer yang diperlukan (dwSize). Kemudian, kami mengalokasikan memori untuk struktur informasi token berdasarkan ukuran ini.\n",
    "\n",
    "Kami memanggil GetTokenInformation lagi untuk mengambil informasi grup token.\n",
    "\n",
    "Kami melakukan iterasi melalui grup token dan menggunakan LookupAccountSidW untuk mengonversi SID grup menjadi nama yang dapat dibaca manusia dan menampilkannya."
   ]
  },
  {
   "cell_type": "markdown",
   "metadata": {},
   "source": [
    "## Sesuaikan Hak Istimewa Token"
   ]
  },
  {
   "cell_type": "markdown",
   "metadata": {},
   "source": [
    "API AdjustTokenPrivileges di C++ digunakan untuk mengaktifkan atau menonaktifkan hak istimewa dalam token akses. Ini biasanya digunakan dalam skenario pengujian keamanan siber dan penetrasi ketika Anda perlu menyesuaikan hak istimewa untuk melakukan tindakan tertentu dengan izin yang lebih tinggi. Berikut ini contoh cara menggunakan AdjustTokenPrivileges untuk mengaktifkan hak istimewa untuk proses saat ini:"
   ]
  },
  {
   "cell_type": "code",
   "execution_count": null,
   "metadata": {
    "vscode": {
     "languageId": "cpp"
    }
   },
   "outputs": [],
   "source": [
    "#include <windows.h>\n",
    "#include <iostream>\n",
    "\n",
    "int main() {\n",
    "    HANDLE hToken = NULL;\n",
    "\n",
    "    // Open the access token for the current process with TOKEN_ADJUST_PRIVILEGES privilege\n",
    "    if (!OpenProcessToken(GetCurrentProcess(), TOKEN_ADJUST_PRIVILEGES | TOKEN_QUERY, &hToken)) {\n",
    "        std::cerr << \"OpenProcessToken failed. Error code: \" << GetLastError() << std::endl;\n",
    "        return 1;\n",
    "    }\n",
    "\n",
    "    // Specify the privilege to enable (e.g., SE_DEBUG_NAME)\n",
    "    LUID luid;\n",
    "    if (!LookupPrivilegeValue(NULL, SE_DEBUG_NAME, &luid)) {\n",
    "        std::cerr << \"LookupPrivilegeValue failed. Error code: \" << GetLastError() << std::endl;\n",
    "        CloseHandle(hToken);\n",
    "        return 1;\n",
    "    }\n",
    "\n",
    "    // Prepare the TOKEN_PRIVILEGES structure\n",
    "    TOKEN_PRIVILEGES tp;\n",
    "    tp.PrivilegeCount = 1;\n",
    "    tp.Privileges[0].Luid = luid;\n",
    "    tp.Privileges[0].Attributes = SE_PRIVILEGE_ENABLED;\n",
    "\n",
    "    // Adjust the token privileges\n",
    "    if (!AdjustTokenPrivileges(hToken, FALSE, &tp, sizeof(TOKEN_PRIVILEGES), NULL, NULL)) {\n",
    "        std::cerr << \"AdjustTokenPrivileges failed. Error code: \" << GetLastError() << std::endl;\n",
    "        CloseHandle(hToken);\n",
    "        return 1;\n",
    "    }\n",
    "\n",
    "    if (GetLastError() == ERROR_NOT_ALL_ASSIGNED) {\n",
    "        std::cerr << \"The token does not have the specified privilege.\" << std::endl;\n",
    "    } else {\n",
    "        std::cout << \"The privilege has been enabled.\" << std::endl;\n",
    "    }\n",
    "\n",
    "    CloseHandle(hToken);\n",
    "    \n",
    "    return 0;\n",
    "}"
   ]
  },
  {
   "cell_type": "markdown",
   "metadata": {},
   "source": [
    "## Toolhelp32ReadProcessMemory"
   ]
  },
  {
   "cell_type": "markdown",
   "metadata": {},
   "source": [
    "Toolhelp32ReadProcessMemory bukan fungsi Windows API standar atau yang dikenali. Tampaknya ini adalah salah tafsir atau kombinasi dari dua fungsi terpisah, Toolhelp32Snapshot dan ReadProcessMemory, seperti yang saya sebutkan sebelumnya.\n",
    "\n",
    "Jika Anda ingin membaca memori proses berbeda untuk tujuan keamanan siber atau pengujian penetrasi, Anda dapat menggunakan ReadProcessMemory. Berikut ini contoh cara menggunakan ReadProcessMemory untuk membaca memori proses lain:"
   ]
  },
  {
   "cell_type": "code",
   "execution_count": null,
   "metadata": {
    "vscode": {
     "languageId": "cpp"
    }
   },
   "outputs": [],
   "source": [
    "#include <windows.h>\n",
    "#include <iostream>\n",
    "\n",
    "int main() {\n",
    "    DWORD processId; // Replace with the target process ID\n",
    "    HANDLE hProcess;\n",
    "\n",
    "    // Replace 'processId' with the PID of the target process\n",
    "    processId = 1234; // Example PID\n",
    "\n",
    "    // Open the target process with PROCESS_VM_READ access rights\n",
    "    hProcess = OpenProcess(PROCESS_VM_READ, FALSE, processId);\n",
    "\n",
    "    if (hProcess == NULL) {\n",
    "        std::cerr << \"Failed to open the target process. Error code: \" << GetLastError() << std::endl;\n",
    "        return 1;\n",
    "    }\n",
    "\n",
    "    // Define a buffer to store the read data\n",
    "    SIZE_T bytesRead;\n",
    "    DWORD address = 0x12345678; // Replace with the memory address you want to read\n",
    "    DWORD buffer;\n",
    "\n",
    "    // Read memory from the target process\n",
    "    if (ReadProcessMemory(hProcess, (LPCVOID)address, &buffer, sizeof(DWORD), &bytesRead)) {\n",
    "        std::cout << \"Read value at address \" << std::hex << address << \": \" << std::dec << buffer << std::endl;\n",
    "    } else {\n",
    "        std::cerr << \"ReadProcessMemory failed. Error code: \" << GetLastError() << std::endl;\n",
    "    }\n",
    "\n",
    "    // Close the handle to the target process\n",
    "    CloseHandle(hProcess);\n",
    "\n",
    "    return 0;\n",
    "}"
   ]
  },
  {
   "cell_type": "markdown",
   "metadata": {},
   "source": [
    "## TulisProsesMemori"
   ]
  },
  {
   "cell_type": "markdown",
   "metadata": {},
   "source": [
    "WriteProcessMemory API di C++ digunakan untuk menulis data ke memori proses lain. Ini dapat berguna dalam skenario pengujian keamanan siber dan penetrasi ketika Anda perlu memodifikasi atau memasukkan kode ke dalam proses lain. Perlu diketahui bahwa mengubah memori proses lain dapat menimbulkan implikasi hukum dan etika, dan Anda sebaiknya hanya menggunakan API ini secara bertanggung jawab dan dengan izin yang sesuai.\n",
    "\n",
    "Berikut ini contoh cara menggunakan WriteProcessMemory untuk menulis nilai ke memori proses lain:"
   ]
  },
  {
   "cell_type": "code",
   "execution_count": null,
   "metadata": {
    "vscode": {
     "languageId": "cpp"
    }
   },
   "outputs": [],
   "source": [
    "#include <windows.h>\n",
    "#include <iostream>\n",
    "\n",
    "int main() {\n",
    "    DWORD processId; // Replace with the target process ID\n",
    "    HANDLE hProcess;\n",
    "\n",
    "    // Replace 'processId' with the PID of the target process\n",
    "    processId = 1234; // Example PID\n",
    "\n",
    "    // Open the target process with PROCESS_VM_WRITE and PROCESS_VM_OPERATION access rights\n",
    "    hProcess = OpenProcess(PROCESS_VM_WRITE | PROCESS_VM_OPERATION, FALSE, processId);\n",
    "\n",
    "    if (hProcess == NULL) {\n",
    "        std::cerr << \"Failed to open the target process. Error code: \" << GetLastError() << std::endl;\n",
    "        return 1;\n",
    "    }\n",
    "\n",
    "    DWORD address = 0x12345678; // Replace with the memory address you want to write to\n",
    "    DWORD value = 42; // Replace with the value you want to write\n",
    "\n",
    "    // Write the value to the memory of the target process\n",
    "    SIZE_T bytesWritten;\n",
    "    if (WriteProcessMemory(hProcess, (LPVOID)address, &value, sizeof(DWORD), &bytesWritten)) {\n",
    "        if (bytesWritten == sizeof(DWORD)) {\n",
    "            std::cout << \"Successfully wrote value \" << value << \" to address \" << std::hex << address << std::endl;\n",
    "        } else {\n",
    "            std::cerr << \"Partial write: \" << bytesWritten << \" bytes written instead of \" << sizeof(DWORD) << std::endl;\n",
    "        }\n",
    "    } else {\n",
    "        std::cerr << \"WriteProcessMemory failed. Error code: \" << GetLastError() << std::endl;\n",
    "    }\n",
    "\n",
    "    // Close the handle to the target process\n",
    "    CloseHandle(hProcess);\n",
    "\n",
    "    return 0;\n",
    "}"
   ]
  },
  {
   "cell_type": "markdown",
   "metadata": {},
   "source": [
    "## WTSEnumerateProcessesEx"
   ]
  },
  {
   "cell_type": "markdown",
   "metadata": {},
   "source": [
    "WTSEnumerateProcessesEx adalah API yang digunakan untuk menghitung proses di Server Terminal Windows. Biasanya digunakan untuk tujuan administratif, bukan untuk keamanan siber atau pengujian penetrasi. Namun, ini dapat digunakan untuk mengumpulkan informasi tentang proses yang berjalan di server jarak jauh, yang mungkin relevan dengan penilaian keamanan tertentu. Untuk menggunakan API ini, Anda harus menyertakan perpustakaan wtsapi32.lib.\n",
    "\n",
    "Berikut ini contoh cara menggunakan WTSEnumerateProcessesEx untuk membuat daftar proses di Server Terminal jarak jauh:"
   ]
  },
  {
   "cell_type": "code",
   "execution_count": null,
   "metadata": {
    "vscode": {
     "languageId": "cpp"
    }
   },
   "outputs": [],
   "source": [
    "#include <windows.h>\n",
    "#include <wtsapi32.h>\n",
    "#include <iostream>\n",
    "\n",
    "int main() {\n",
    "    PWTS_PROCESS_INFO_EX pProcessInfo = NULL;\n",
    "    DWORD dwProcCount = 0;\n",
    "    \n",
    "    if (WTSEnumerateProcessesEx(WTS_CURRENT_SERVER_HANDLE, &pProcessInfo, &dwProcCount) != 0) {\n",
    "        for (DWORD i = 0; i < dwProcCount; ++i) {\n",
    "            std::wcout << L\"Process ID: \" << pProcessInfo[i].ProcessId << std::endl;\n",
    "            std::wcout << L\"Session ID: \" << pProcessInfo[i].SessionId << std::endl;\n",
    "            std::wcout << L\"Process Name: \" << pProcessInfo[i].pProcessName << std::endl;\n",
    "            std::wcout << L\"User Name: \" << pProcessInfo[i].pUserSid << std::endl;\n",
    "            std::wcout << L\"--------------------------------------\" << std::endl;\n",
    "        }\n",
    "\n",
    "        // Free the allocated memory\n",
    "        WTSFreeMemory(pProcessInfo);\n",
    "    } else {\n",
    "        std::cerr << \"WTSEnumerateProcessesEx failed. Error code: \" << GetLastError() << std::endl;\n",
    "        return 1;\n",
    "    }\n",
    "\n",
    "    return 0;\n",
    "}"
   ]
  },
  {
   "cell_type": "markdown",
   "metadata": {},
   "source": [
    "## WTSFreeMemoryEx"
   ]
  },
  {
   "cell_type": "markdown",
   "metadata": {},
   "source": [
    "Saya minta maaf, tetapi pada pembaruan pengetahuan terakhir saya pada bulan September 2021, tidak ada fungsi Windows API standar yang bernama WTSFreeMemoryEx. Oleh karena itu, saya tidak dapat memberikan contoh kode C++ untuk API khusus ini.\n",
    "\n",
    "Ada kemungkinan bahwa API semacam itu diperkenalkan di versi Windows yang lebih baru atau sebagai bagian dari perpustakaan pihak ketiga. Jika Anda memiliki informasi spesifik tentang WTSFreeMemoryEx atau tujuan penggunaannya, harap berikan detail lebih lanjut, dan saya akan melakukan yang terbaik untuk membantu Anda dengan contoh kode."
   ]
  },
  {
   "cell_type": "code",
   "execution_count": null,
   "metadata": {
    "vscode": {
     "languageId": "cpp"
    }
   },
   "outputs": [],
   "source": [
    "BOOL WTSFreeMemoryExA(\n",
    "  [in] WTS_TYPE_CLASS WTSTypeClass,\n",
    "  [in] PVOID          pMemory,\n",
    "  [in] ULONG          NumberOfEntries\n",
    ");"
   ]
  },
  {
   "cell_type": "markdown",
   "metadata": {},
   "source": [
    "## PencarianNilai Hak Istimewa"
   ]
  },
  {
   "cell_type": "markdown",
   "metadata": {},
   "source": [
    "API LookupPrivilegeValue di C++ digunakan untuk mengambil pengidentifikasi unik lokal (LUID) yang mewakili nama hak istimewa pada sistem. API ini dapat berguna dalam keamanan siber dan pengujian penetrasi ketika Anda perlu bekerja dengan hak istimewa, seperti mengaktifkan atau menonaktifkannya untuk suatu proses. Berikut ini contoh cara menggunakan LookupPrivilegeValue untuk mengambil LUID untuk hak istimewa:"
   ]
  },
  {
   "cell_type": "code",
   "execution_count": null,
   "metadata": {
    "vscode": {
     "languageId": "cpp"
    }
   },
   "outputs": [],
   "source": [
    "#include <windows.h>\n",
    "#include <iostream>\n",
    "\n",
    "int main() {\n",
    "    LUID luid;\n",
    "    if (LookupPrivilegeValue(NULL, SE_DEBUG_NAME, &luid)) {\n",
    "        std::cout << \"LUID for SE_DEBUG_NAME: \" << std::dec << luid.LowPart << \":\" << luid.HighPart << std::endl;\n",
    "    } else {\n",
    "        std::cerr << \"LookupPrivilegeValue failed. Error code: \" << GetLastError() << std::endl;\n",
    "        return 1;\n",
    "    }\n",
    "\n",
    "    return 0;\n",
    "}"
   ]
  },
  {
   "cell_type": "markdown",
   "metadata": {},
   "source": [
    "Kami memanggil LookupPrivilegeValue untuk mengambil LUID untuk hak istimewa bernama SE_DEBUG_NAME. Hak istimewa ini sering digunakan dalam skenario debugging dan merupakan contoh nama hak istimewa.\n",
    "\n",
    "Jika fungsinya berhasil, ia akan mengembalikan LUID untuk hak istimewa yang ditentukan, yang terdiri dari dua bagian: LowPart dan HighPart. Kami mencetak nilai-nilai ini menggunakan std::cout.\n",
    "\n",
    "Jika LookupPrivilegeValue gagal, kami mencetak pesan kesalahan dengan kode kesalahan yang diperoleh dari GetLastError()."
   ]
  },
  {
   "cell_type": "markdown",
   "metadata": {},
   "source": [
    "## Dapatkan Proses Saat Ini"
   ]
  },
  {
   "cell_type": "markdown",
   "metadata": {},
   "source": [
    "GetCurrentProcess API di C++ adalah fungsi sederhana yang digunakan untuk menangani proses saat ini. Meskipun tidak memiliki aplikasi langsung dalam pengujian keamanan siber atau penetrasi, namun dapat digunakan untuk mengumpulkan informasi tentang proses yang sedang berjalan atau untuk melakukan operasi tertentu pada proses tersebut. Berikut ini contoh dasar cara menggunakan GetCurrentProcess:"
   ]
  },
  {
   "cell_type": "code",
   "execution_count": null,
   "metadata": {
    "vscode": {
     "languageId": "cpp"
    }
   },
   "outputs": [],
   "source": [
    "#include <windows.h>\n",
    "#include <iostream>\n",
    "\n",
    "int main() {\n",
    "    HANDLE hProcess = GetCurrentProcess();\n",
    "\n",
    "    if (hProcess == NULL) {\n",
    "        std::cerr << \"GetCurrentProcess failed. Error code: \" << GetLastError() << std::endl;\n",
    "        return 1;\n",
    "    }\n",
    "\n",
    "    std::cout << \"Handle to the current process: \" << hProcess << std::endl;\n",
    "\n",
    "    // Do further operations with the process handle if needed\n",
    "\n",
    "    // Close the handle when done with it\n",
    "    CloseHandle(hProcess);\n",
    "\n",
    "    return 0;\n",
    "}"
   ]
  },
  {
   "cell_type": "markdown",
   "metadata": {},
   "source": [
    "## BukaProcessToken\n"
   ]
  },
  {
   "cell_type": "markdown",
   "metadata": {},
   "source": [
    "OpenProcessToken API di C++ biasanya digunakan dalam pengujian keamanan siber dan penetrasi ketika Anda perlu mendapatkan pegangan pada token akses yang terkait dengan suatu proses. Token akses berisi informasi tentang konteks keamanan pengguna, termasuk hak istimewa, grup, dan hak pengguna. Berikut ini contoh cara menggunakan OpenProcessToken:"
   ]
  },
  {
   "cell_type": "code",
   "execution_count": null,
   "metadata": {
    "vscode": {
     "languageId": "cpp"
    }
   },
   "outputs": [],
   "source": [
    "#include <windows.h>\n",
    "#include <iostream>\n",
    "\n",
    "int main() {\n",
    "    DWORD processId; // Replace with the target process ID\n",
    "    HANDLE hProcess, hToken;\n",
    "\n",
    "    // Replace 'processId' with the PID of the target process\n",
    "    processId = 1234; // Example PID\n",
    "\n",
    "    // Open the target process with PROCESS_QUERY_INFORMATION access rights\n",
    "    hProcess = OpenProcess(PROCESS_QUERY_INFORMATION, FALSE, processId);\n",
    "\n",
    "    if (hProcess == NULL) {\n",
    "        std::cerr << \"Failed to open the target process. Error code: \" << GetLastError() << std::endl;\n",
    "        return 1;\n",
    "    }\n",
    "\n",
    "    // Open the access token associated with the target process\n",
    "    if (!OpenProcessToken(hProcess, TOKEN_QUERY, &hToken)) {\n",
    "        std::cerr << \"OpenProcessToken failed. Error code: \" << GetLastError() << std::endl;\n",
    "        CloseHandle(hProcess);\n",
    "        return 1;\n",
    "    }\n",
    "\n",
    "    // Use the access token as needed (e.g., querying privileges or groups)\n",
    "\n",
    "    // Close the process and token handles when done\n",
    "    CloseHandle(hToken);\n",
    "    CloseHandle(hProcess);\n",
    "\n",
    "    return 0;\n",
    "}"
   ]
  },
  {
   "cell_type": "markdown",
   "metadata": {},
   "source": [
    "## PencarianAkunSid"
   ]
  },
  {
   "cell_type": "markdown",
   "metadata": {},
   "source": [
    "API LookupAccountSid di C++ digunakan untuk mengubah pengidentifikasi keamanan (SID) menjadi nama pengguna atau grup. API ini dapat membantu dalam pengujian keamanan siber dan penetrasi ketika Anda perlu mengidentifikasi pengguna atau grup yang terkait dengan SID. Berikut ini contoh cara menggunakan LookupAccountSid:"
   ]
  },
  {
   "cell_type": "code",
   "execution_count": null,
   "metadata": {
    "vscode": {
     "languageId": "cpp"
    }
   },
   "outputs": [],
   "source": [
    "#include <windows.h>\n",
    "#include <iostream>\n",
    "#include <sddl.h>\n",
    "\n",
    "int main() {\n",
    "    // Replace this string with the SID you want to look up\n",
    "    LPCWSTR sidString = L\"S-1-5-21-3623811015-3361044348-30300820-1013\";\n",
    "\n",
    "    PSID pSid = NULL;\n",
    "    if (!ConvertStringSidToSidW(sidString, &pSid)) {\n",
    "        std::cerr << \"ConvertStringSidToSidW failed. Error code: \" << GetLastError() << std::endl;\n",
    "        return 1;\n",
    "    }\n",
    "\n",
    "    WCHAR szName[MAX_PATH];\n",
    "    DWORD cchName = sizeof(szName) / sizeof(szName[0]);\n",
    "    WCHAR szDomain[MAX_PATH];\n",
    "    DWORD cchDomain = sizeof(szDomain) / sizeof(szDomain[0]);\n",
    "    SID_NAME_USE sidType;\n",
    "\n",
    "    if (LookupAccountSidW(NULL, pSid, szName, &cchName, szDomain, &cchDomain, &sidType)) {\n",
    "        std::wcout << L\"User/Group Name: \" << szDomain << L\"\\\\\" << szName << std::endl;\n",
    "    } else {\n",
    "        std::cerr << \"LookupAccountSidW failed. Error code: \" << GetLastError() << std::endl;\n",
    "    }\n",
    "\n",
    "    LocalFree(pSid);\n",
    "\n",
    "    return 0;\n",
    "}"
   ]
  },
  {
   "cell_type": "markdown",
   "metadata": {},
   "source": [
    "## KonversiSidToStringSidA"
   ]
  },
  {
   "cell_type": "markdown",
   "metadata": {},
   "source": [
    "API ConvertSidToStringSidA di C++ digunakan untuk mengubah pengidentifikasi keamanan (SID) menjadi representasi stringnya. Hal ini dapat berguna dalam pengujian keamanan siber dan penetrasi ketika Anda perlu menampilkan atau memanipulasi SID dalam format yang dapat dibaca manusia. Berikut ini contoh cara menggunakan ConvertSidToStringSidA:"
   ]
  },
  {
   "cell_type": "code",
   "execution_count": null,
   "metadata": {
    "vscode": {
     "languageId": "cpp"
    }
   },
   "outputs": [],
   "source": [
    "#include <windows.h>\n",
    "#include <iostream>\n",
    "\n",
    "int main() {\n",
    "    // Replace this string with the SID you want to convert\n",
    "    const char* sidString = \"S-1-5-21-3623811015-3361044348-30300820-1013\";\n",
    "\n",
    "    PSID pSid = NULL;\n",
    "    if (!ConvertStringSidToSidA(sidString, &pSid)) {\n",
    "        std::cerr << \"ConvertStringSidToSidA failed. Error code: \" << GetLastError() << std::endl;\n",
    "        return 1;\n",
    "    }\n",
    "\n",
    "    LPSTR stringSid = NULL;\n",
    "    if (ConvertSidToStringSidA(pSid, &stringSid)) {\n",
    "        std::cout << \"String representation of SID: \" << stringSid << std::endl;\n",
    "        LocalFree(stringSid); // Free the allocated memory\n",
    "    } else {\n",
    "        std::cerr << \"ConvertSidToStringSidA failed. Error code: \" << GetLastError() << std::endl;\n",
    "    }\n",
    "\n",
    "    LocalFree(pSid); // Free the SID structure\n",
    "\n",
    "    return 0;\n",
    "}"
   ]
  },
  {
   "cell_type": "markdown",
   "metadata": {},
   "source": [
    "## Kotak PesanA"
   ]
  },
  {
   "cell_type": "markdown",
   "metadata": {},
   "source": [
    "API MessageBoxA di C++ digunakan untuk menampilkan dialog kotak pesan pada sistem operasi Windows. Meskipun ini bukan alat langsung untuk pengujian keamanan siber atau penetrasi, kotak pesan dapat digunakan untuk berbagai tujuan, termasuk menampilkan peringatan atau informasi selama pengujian. Berikut ini contoh cara menggunakan MessageBoxA untuk menampilkan kotak pesan sederhana:"
   ]
  },
  {
   "cell_type": "code",
   "execution_count": null,
   "metadata": {
    "vscode": {
     "languageId": "cpp"
    }
   },
   "outputs": [],
   "source": [
    "#include <windows.h>\n",
    "\n",
    "int main() {\n",
    "    // Display a message box with a \"Hello, World!\" message\n",
    "    MessageBoxA(NULL, \"Hello, World!\", \"Message Box Example\", MB_OK | MB_ICONINFORMATION);\n",
    "\n",
    "    return 0;\n",
    "}"
   ]
  },
  {
   "cell_type": "markdown",
   "metadata": {},
   "source": [
    "## Kotak Pesan Terpikat"
   ]
  },
  {
   "cell_type": "markdown",
   "metadata": {},
   "source": [
    "Membuat API HookedMessageBox dari awal akan melibatkan penerapan fungsi kotak pesan khusus dengan teknik pengait, yang bisa jadi cukup rumit. Hooking adalah teknik yang digunakan untuk mencegat dan mengubah perilaku fungsi yang ada. Ini adalah topik khusus di bidang pengembangan perangkat lunak, dan sering digunakan untuk debugging, pemantauan, atau penyesuaian perilaku sistem.\n",
    "\n",
    "Di bawah ini adalah contoh sederhana tentang bagaimana Anda dapat menggunakan fungsi hooking untuk mencegat dan mengubah perilaku fungsi MessageBoxA. Perhatikan bahwa contoh ini menunjukkan konsep hooking dan tidak cocok untuk tujuan pengujian keamanan siber atau penetrasi:\n"
   ]
  },
  {
   "cell_type": "code",
   "execution_count": null,
   "metadata": {
    "vscode": {
     "languageId": "cpp"
    }
   },
   "outputs": [],
   "source": [
    "#include <windows.h>\n",
    "#include <iostream>\n",
    "\n",
    "// Function pointer type for the original MessageBoxA function\n",
    "typedef int(WINAPI* MessageBoxAType)(HWND, LPCSTR, LPCSTR, UINT);\n",
    "\n",
    "// Function pointer to store the address of the original MessageBoxA function\n",
    "MessageBoxAType originalMessageBoxA;\n",
    "\n",
    "// Custom MessageBoxA function that intercepts and modifies the behavior\n",
    "int WINAPI CustomMessageBoxA(HWND hWnd, LPCSTR lpText, LPCSTR lpCaption, UINT uType) {\n",
    "    // Modify the message or behavior here\n",
    "    std::cout << \"Intercepted MessageBoxA:\" << std::endl;\n",
    "    std::cout << \"Text: \" << lpText << std::endl;\n",
    "    std::cout << \"Caption: \" << lpCaption << std::endl;\n",
    "\n",
    "    // Call the original MessageBoxA function\n",
    "    return originalMessageBoxA(hWnd, lpText, lpCaption, uType);\n",
    "}\n",
    "\n",
    "int main() {\n",
    "    // Get the address of the original MessageBoxA function\n",
    "    HMODULE user32Module = GetModuleHandle(L\"user32.dll\");\n",
    "    if (user32Module != NULL) {\n",
    "        originalMessageBoxA = reinterpret_cast<MessageBoxAType>(GetProcAddress(user32Module, \"MessageBoxA\"));\n",
    "    }\n",
    "\n",
    "    // Check if we successfully obtained the original function pointer\n",
    "    if (originalMessageBoxA == NULL) {\n",
    "        std::cerr << \"Failed to obtain the address of MessageBoxA.\" << std::endl;\n",
    "        return 1;\n",
    "    }\n",
    "\n",
    "    // Set our custom MessageBoxA function as the hook\n",
    "    MessageBoxAType customMessageBoxA = CustomMessageBoxA;\n",
    "    originalMessageBoxA = reinterpret_cast<MessageBoxAType>(\n",
    "        SetWindowsHookEx(WH_CBT, reinterpret_cast<HOOKPROC>(customMessageBoxA), NULL, GetCurrentThreadId())\n",
    "    );\n",
    "\n",
    "    if (originalMessageBoxA == NULL) {\n",
    "        std::cerr << \"Failed to set the hook.\" << std::endl;\n",
    "        return 1;\n",
    "    }\n",
    "\n",
    "    // Trigger a MessageBoxA call to see the interception\n",
    "    MessageBoxA(NULL, \"Hello, World!\", \"Original MessageBoxA\", MB_OK);\n",
    "\n",
    "    // Remove the hook\n",
    "    UnhookWindowsHookEx(reinterpret_cast<HHOOK>(originalMessageBoxA));\n",
    "\n",
    "    return 0;\n",
    "}"
   ]
  },
  {
   "cell_type": "markdown",
   "metadata": {},
   "source": [
    "Kami mendefinisikan fungsi MessageBoxA khusus (CustomMessageBoxA) yang memotong dan mengubah perilaku fungsi MessageBoxA asli. Dalam hal ini, ia hanya mencetak pesan dan keterangan ke konsol dan kemudian memanggil fungsi aslinya.\n",
    "\n",
    "Kami memperoleh alamat fungsi MessageBoxA asli menggunakan GetProcAddress.\n",
    "\n",
    "Kami menggunakan fungsi SetWindowsHookEx untuk mengatur fungsi kustom kami sebagai pengait untuk MessageBoxA. Ini memotong panggilan ke MessageBoxA dan mengarahkannya ke fungsi khusus kami.\n",
    "\n",
    "Kami memanggil MessageBoxA untuk memicu hook dan mendemonstrasikan intersepsi.\n",
    "\n",
    "Terakhir, kami menghapus hook menggunakan UnhookWindowsHookEx."
   ]
  },
  {
   "cell_type": "markdown",
   "metadata": {},
   "source": [
    "## Dapatkan AlamatProc"
   ]
  },
  {
   "cell_type": "markdown",
   "metadata": {},
   "source": [
    "API GetProcAddress di C++ digunakan untuk mengambil alamat fungsi atau variabel yang diekspor dalam pustaka tautan dinamis (DLL) atau dapat dieksekusi (EXE). Ini dapat digunakan dalam pengujian keamanan siber dan penetrasi untuk memeriksa fungsi yang tersedia dan berpotensi menemukan kerentanan atau kelemahan dalam aplikasi target. Berikut ini contoh cara menggunakan GetProcAddress:"
   ]
  },
  {
   "cell_type": "code",
   "execution_count": null,
   "metadata": {
    "vscode": {
     "languageId": "cpp"
    }
   },
   "outputs": [],
   "source": [
    "#include <windows.h>\n",
    "#include <iostream>\n",
    "\n",
    "int main() {\n",
    "    // Replace these values with the target DLL and function names\n",
    "    const char* dllName = \"user32.dll\";\n",
    "    const char* functionName = \"MessageBoxA\";\n",
    "\n",
    "    // Load the target DLL\n",
    "    HMODULE hModule = LoadLibraryA(dllName);\n",
    "\n",
    "    if (hModule == NULL) {\n",
    "        std::cerr << \"Failed to load the DLL. Error code: \" << GetLastError() << std::endl;\n",
    "        return 1;\n",
    "    }\n",
    "\n",
    "    // Get the address of the function\n",
    "    FARPROC functionAddress = GetProcAddress(hModule, functionName);\n",
    "\n",
    "    if (functionAddress == NULL) {\n",
    "        std::cerr << \"Failed to get the address of the function. Error code: \" << GetLastError() << std::endl;\n",
    "        FreeLibrary(hModule);\n",
    "        return 1;\n",
    "    }\n",
    "\n",
    "    std::cout << \"Address of \" << functionName << \" in \" << dllName << \": \" << functionAddress << std::endl;\n",
    "\n",
    "    // Free the loaded DLL\n",
    "    FreeLibrary(hModule);\n",
    "\n",
    "    return 0;\n",
    "}"
   ]
  },
  {
   "cell_type": "markdown",
   "metadata": {},
   "source": [
    "## BuatProsesA"
   ]
  },
  {
   "cell_type": "markdown",
   "metadata": {},
   "source": [
    "CreateProcessA API di C++ biasanya digunakan untuk membuat proses baru. Ini dapat berguna dalam pengujian keamanan siber dan penetrasi ketika Anda perlu meluncurkan proses baru, seperti menjalankan alat eksternal atau menjalankan perintah pada sistem. Berikut ini contoh cara menggunakan CreateProcessA:"
   ]
  },
  {
   "cell_type": "code",
   "execution_count": null,
   "metadata": {
    "vscode": {
     "languageId": "cpp"
    }
   },
   "outputs": [],
   "source": [
    "#include <windows.h>\n",
    "#include <iostream>\n",
    "\n",
    "int main() {\n",
    "    // Replace these values with the path to the executable and command-line arguments\n",
    "    const char* executablePath = \"C:\\\\Path\\\\To\\\\YourProgram.exe\";\n",
    "    const char* commandLineArgs = \"\"; // Optional command-line arguments\n",
    "\n",
    "    // Structure for process information\n",
    "    PROCESS_INFORMATION pi;\n",
    "    \n",
    "    // Structure for startup information\n",
    "    STARTUPINFOA si;\n",
    "    ZeroMemory(&si, sizeof(STARTUPINFOA));\n",
    "    si.cb = sizeof(STARTUPINFOA);\n",
    "\n",
    "    if (CreateProcessA(\n",
    "        NULL,               // Use the application name from the command line\n",
    "        (LPSTR)executablePath, // Path to the executable\n",
    "        NULL,               // Process handle not inheritable\n",
    "        NULL,               // Thread handle not inheritable\n",
    "        FALSE,              // Set handle inheritance to FALSE\n",
    "        0,                  // No creation flags\n",
    "        NULL,               // Use parent's environment block\n",
    "        NULL,               // Use parent's starting directory \n",
    "        &si,                // Pointer to STARTUPINFO structure\n",
    "        &pi                 // Pointer to PROCESS_INFORMATION structure\n",
    "    )) {\n",
    "        std::cout << \"Process created successfully!\" << std::endl;\n",
    "        std::cout << \"Process ID: \" << pi.dwProcessId << std::endl;\n",
    "        \n",
    "        // Close process and thread handles to avoid resource leaks\n",
    "        CloseHandle(pi.hProcess);\n",
    "        CloseHandle(pi.hThread);\n",
    "    } else {\n",
    "        std::cerr << \"CreateProcessA failed. Error code: \" << GetLastError() << std::endl;\n",
    "        return 1;\n",
    "    }\n",
    "\n",
    "    return 0;\n",
    "}"
   ]
  },
  {
   "cell_type": "markdown",
   "metadata": {},
   "source": [
    "Ganti executablePath dengan jalur ke executable yang ingin Anda jalankan, dan commandLineArgs dengan argumen baris perintah opsional.\n",
    "\n",
    "Kami mendefinisikan struktur STARTUPINFOA untuk memberikan informasi tentang bagaimana proses harus dimulai, dan struktur PROCESS_INFORMATION untuk menerima informasi tentang proses yang baru dibuat.\n",
    "\n",
    "Kami memanggil CreateProcessA dengan jalur eksekusi dan argumen baris perintah yang ditentukan. Jika berhasil, ini akan membuat proses baru dan mengembalikan informasi tentangnya di struktur PROCESS_INFORMATION.\n",
    "\n",
    "Kami mencetak ID proses (PID) dari proses yang baru dibuat ke konsol.\n",
    "\n",
    "Terakhir, kami menutup proses dan pegangan thread untuk menghindari kebocoran sumber daya."
   ]
  },
  {
   "cell_type": "markdown",
   "metadata": {},
   "source": [
    "## Proses Terbuka"
   ]
  },
  {
   "cell_type": "markdown",
   "metadata": {},
   "source": [
    "OpenProcess API di C++ digunakan untuk menangani proses yang ada. Ini dapat berguna dalam pengujian keamanan siber dan penetrasi ketika Anda perlu berinteraksi atau memanipulasi proses lain yang berjalan di sistem Windows. Berikut ini contoh cara menggunakan OpenProcess:"
   ]
  },
  {
   "cell_type": "code",
   "execution_count": null,
   "metadata": {
    "vscode": {
     "languageId": "cpp"
    }
   },
   "outputs": [],
   "source": [
    "#include <windows.h>\n",
    "#include <iostream>\n",
    "\n",
    "int main() {\n",
    "    DWORD processId; // Replace with the target process ID\n",
    "    HANDLE hProcess;\n",
    "\n",
    "    // Replace 'processId' with the PID of the target process\n",
    "    processId = 1234; // Example PID\n",
    "\n",
    "    // Open the target process with PROCESS_QUERY_INFORMATION access rights\n",
    "    hProcess = OpenProcess(PROCESS_QUERY_INFORMATION, FALSE, processId);\n",
    "\n",
    "    if (hProcess == NULL) {\n",
    "        std::cerr << \"Failed to open the target process. Error code: \" << GetLastError() << std::endl;\n",
    "        return 1;\n",
    "    }\n",
    "\n",
    "    std::cout << \"Successfully opened the target process with handle: \" << hProcess << std::endl;\n",
    "\n",
    "    // Perform operations on the target process as needed\n",
    "\n",
    "    // Close the handle when done with it\n",
    "    CloseHandle(hProcess);\n",
    "\n",
    "    return 0;\n",
    "}"
   ]
  },
  {
   "cell_type": "markdown",
   "metadata": {},
   "source": [
    "## DuplikatHandle"
   ]
  },
  {
   "cell_type": "markdown",
   "metadata": {},
   "source": [
    "DuplikatHandle API di C++ digunakan untuk menduplikasi pegangan ke objek seperti proses, thread, atau file. Ini dapat berguna dalam pengujian keamanan siber dan penetrasi ketika Anda perlu berbagi pegangan antar proses atau melakukan operasi tertentu pada pegangan duplikat tanpa mempengaruhi yang asli. Berikut ini contoh cara menggunakan DuplikatHandle:"
   ]
  },
  {
   "cell_type": "code",
   "execution_count": null,
   "metadata": {
    "vscode": {
     "languageId": "cpp"
    }
   },
   "outputs": [],
   "source": [
    "#include <windows.h>\n",
    "#include <iostream>\n",
    "\n",
    "int main() {\n",
    "    HANDLE hProcess; // Replace with the source process handle\n",
    "    HANDLE hDuplicateProcess = NULL;\n",
    "\n",
    "    // Replace 'hProcess' with the source process handle you want to duplicate\n",
    "    hProcess = OpenProcess(PROCESS_QUERY_INFORMATION, FALSE, GetCurrentProcessId());\n",
    "\n",
    "    if (hProcess == NULL) {\n",
    "        std::cerr << \"Failed to open the source process. Error code: \" << GetLastError() << std::endl;\n",
    "        return 1;\n",
    "    }\n",
    "\n",
    "    // Duplicate the handle\n",
    "    if (DuplicateHandle(GetCurrentProcess(), hProcess, GetCurrentProcess(), &hDuplicateProcess, 0, FALSE, DUPLICATE_SAME_ACCESS)) {\n",
    "        std::cout << \"Handle duplicated successfully!\" << std::endl;\n",
    "        \n",
    "        // Perform operations using the duplicated handle (hDuplicateProcess) as needed\n",
    "\n",
    "        // Close the duplicated handle when done with it\n",
    "        CloseHandle(hDuplicateProcess);\n",
    "    } else {\n",
    "        std::cerr << \"DuplicateHandle failed. Error code: \" << GetLastError() << std::endl;\n",
    "    }\n",
    "\n",
    "    // Close the source process handle\n",
    "    CloseHandle(hProcess);\n",
    "\n",
    "    return 0;\n",
    "}"
   ]
  },
  {
   "cell_type": "markdown",
   "metadata": {},
   "source": [
    "Ganti hProcess dengan pegangan proses sumber yang ingin Anda duplikasi. Dalam contoh ini, kami menggunakan OpenProcess untuk mendapatkan pegangan dari proses saat ini sebagai contoh.\n",
    "\n",
    "Kami memanggil OpenProcess untuk membuka proses sumber dengan hak akses PROCESS_QUERY_INFORMATION. Anda harus menyesuaikan hak akses dan mendapatkan pegangan proses sumber sesuai dengan kebutuhan spesifik Anda.\n",
    "\n",
    "Kami memeriksa apakah fungsi OpenProcess berhasil menangani proses sumber. Jika gagal, kami mencetak pesan kesalahan dengan kode kesalahan dari GetLastError().\n",
    "\n",
    "Kami menggunakan DuplikatHandle untuk menduplikasi pegangan proses sumber (hProcess) ke dalam proses saat ini (GetCurrentProcess()). Pegangan duplikat disimpan di hDuplicationProcess.\n",
    "\n",
    "Jika DuplikatHandle berhasil, maka pegangan tersebut akan diduplikasi, dan kita dapat menggunakan pegangan yang diduplikasi (hDuplicationProcess) untuk melakukan operasi pada proses sumber sesuai kebutuhan.\n",
    "\n",
    "Terakhir, kami menutup pegangan proses sumber (hProcess) dan pegangan duplikat (hDuplicationProcess) setelah selesai menggunakannya untuk melepaskan sumber daya terkait.\n"
   ]
  },
  {
   "cell_type": "markdown",
   "metadata": {},
   "source": [
    "## VirtualAllocEx"
   ]
  },
  {
   "cell_type": "markdown",
   "metadata": {},
   "source": [
    "VirtualAllocEx API di C++ digunakan untuk mengalokasikan memori dalam ruang alamat proses tertentu. Hal ini dapat berguna dalam pengujian keamanan siber dan penetrasi ketika Anda perlu mengalokasikan memori dalam proses lain untuk berbagai tujuan, seperti injeksi kode atau analisis memori. Berikut ini contoh cara menggunakan VirtualAllocEx:"
   ]
  },
  {
   "cell_type": "code",
   "execution_count": null,
   "metadata": {
    "vscode": {
     "languageId": "cpp"
    }
   },
   "outputs": [],
   "source": [
    "#include <windows.h>\n",
    "#include <iostream>\n",
    "\n",
    "int main() {\n",
    "    HANDLE hProcess; // Replace with the target process handle\n",
    "    LPVOID lpBaseAddress = NULL; // Request any available address\n",
    "    SIZE_T dwSize = 4096; // Allocate 4 KB (adjust as needed)\n",
    "    DWORD flAllocationType = MEM_COMMIT | MEM_RESERVE;\n",
    "    DWORD flProtect = PAGE_EXECUTE_READWRITE; // Adjust protection as needed\n",
    "\n",
    "    // Replace 'hProcess' with the target process handle you want to allocate memory in\n",
    "    hProcess = OpenProcess(PROCESS_ALL_ACCESS, FALSE, 1234); // Replace '1234' with the target process ID\n",
    "\n",
    "    if (hProcess == NULL) {\n",
    "        std::cerr << \"Failed to open the target process. Error code: \" << GetLastError() << std::endl;\n",
    "        return 1;\n",
    "    }\n",
    "\n",
    "    LPVOID lpRemoteBuffer = VirtualAllocEx(hProcess, lpBaseAddress, dwSize, flAllocationType, flProtect);\n",
    "\n",
    "    if (lpRemoteBuffer == NULL) {\n",
    "        std::cerr << \"VirtualAllocEx failed. Error code: \" << GetLastError() << std::endl;\n",
    "        CloseHandle(hProcess);\n",
    "        return 1;\n",
    "    }\n",
    "\n",
    "    std::cout << \"Memory allocated successfully in the target process at address: \" << lpRemoteBuffer << std::endl;\n",
    "\n",
    "    // Perform operations using the allocated memory in the target process as needed\n",
    "\n",
    "    // Free the allocated memory when done\n",
    "    VirtualFreeEx(hProcess, lpRemoteBuffer, 0, MEM_RELEASE);\n",
    "\n",
    "    // Close the target process handle\n",
    "    CloseHandle(hProcess);\n",
    "\n",
    "    return 0;\n",
    "}"
   ]
  },
  {
   "cell_type": "markdown",
   "metadata": {},
   "source": [
    "## VirtualProtectEx"
   ]
  },
  {
   "cell_type": "markdown",
   "metadata": {},
   "source": [
    "VirtualProtectEx API di C++ digunakan untuk mengubah atribut perlindungan wilayah memori dalam ruang alamat proses tertentu. Hal ini dapat berguna dalam pengujian keamanan siber dan penetrasi ketika Anda perlu mengubah atribut perlindungan memori dalam proses lain untuk berbagai tujuan, seperti injeksi kode atau manipulasi memori. Berikut ini contoh cara menggunakan VirtualProtectEx:"
   ]
  },
  {
   "cell_type": "code",
   "execution_count": null,
   "metadata": {
    "vscode": {
     "languageId": "cpp"
    }
   },
   "outputs": [],
   "source": [
    "#include <windows.h>\n",
    "#include <iostream>\n",
    "\n",
    "int main() {\n",
    "    HANDLE hProcess; // Replace with the target process handle\n",
    "    LPVOID lpAddress = nullptr; // Address of the memory region to protect\n",
    "    SIZE_T dwSize = 4096; // Size of the memory region (adjust as needed)\n",
    "    DWORD flNewProtect = PAGE_EXECUTE_READWRITE; // New protection attributes\n",
    "\n",
    "    // Replace 'hProcess' with the target process handle you want to modify memory protection in\n",
    "    hProcess = OpenProcess(PROCESS_ALL_ACCESS, FALSE, 1234); // Replace '1234' with the target process ID\n",
    "\n",
    "    if (hProcess == NULL) {\n",
    "        std::cerr << \"Failed to open the target process. Error code: \" << GetLastError() << std::endl;\n",
    "        return 1;\n",
    "    }\n",
    "\n",
    "    if (VirtualProtectEx(hProcess, lpAddress, dwSize, flNewProtect, nullptr)) {\n",
    "        std::cout << \"Memory protection attributes modified successfully.\" << std::endl;\n",
    "\n",
    "        // Perform operations on the protected memory as needed\n",
    "\n",
    "        // Restore the original protection attributes if necessary\n",
    "        DWORD flOldProtect;\n",
    "        VirtualProtectEx(hProcess, lpAddress, dwSize, flOldProtect, nullptr);\n",
    "    } else {\n",
    "        std::cerr << \"VirtualProtectEx failed. Error code: \" << GetLastError() << std::endl;\n",
    "    }\n",
    "\n",
    "    // Close the target process handle\n",
    "    CloseHandle(hProcess);\n",
    "\n",
    "    return 0;\n",
    "}"
   ]
  },
  {
   "cell_type": "markdown",
   "metadata": {},
   "source": [
    "## Setel Konteks Benang"
   ]
  },
  {
   "cell_type": "markdown",
   "metadata": {},
   "source": [
    "SetThreadContext API di C++ digunakan untuk mengatur konteks thread tertentu, yang mencakup nilai register dan flag. Hal ini dapat berguna dalam pengujian keamanan siber dan penetrasi untuk berbagai tujuan, seperti memodifikasi perilaku thread atau mengubah alur eksekusi dalam proses target. Namun, penting untuk diingat bahwa penggunaan API ini untuk tujuan yang tidak sah atau berbahaya dapat menimbulkan implikasi hukum dan etika yang serius. Berikut ini contoh cara menggunakan SetThreadContext:"
   ]
  },
  {
   "cell_type": "code",
   "execution_count": null,
   "metadata": {
    "vscode": {
     "languageId": "cpp"
    }
   },
   "outputs": [],
   "source": [
    "#include <windows.h>\n",
    "#include <iostream>\n",
    "\n",
    "int main() {\n",
    "    DWORD processId; // Replace with the target process ID\n",
    "    HANDLE hProcess, hThread;\n",
    "\n",
    "    // Replace 'processId' with the PID of the target process\n",
    "    processId = 1234; // Example PID\n",
    "\n",
    "    // Open the target process with PROCESS_ALL_ACCESS access rights\n",
    "    hProcess = OpenProcess(PROCESS_ALL_ACCESS, FALSE, processId);\n",
    "\n",
    "    if (hProcess == NULL) {\n",
    "        std::cerr << \"Failed to open the target process. Error code: \" << GetLastError() << std::endl;\n",
    "        return 1;\n",
    "    }\n",
    "\n",
    "    // Open a thread within the target process (e.g., the primary thread)\n",
    "    hThread = OpenThread(THREAD_ALL_ACCESS, FALSE, GetCurrentThreadId()); // Replace with the target thread ID\n",
    "\n",
    "    if (hThread == NULL) {\n",
    "        std::cerr << \"Failed to open the target thread. Error code: \" << GetLastError() << std::endl;\n",
    "        CloseHandle(hProcess);\n",
    "        return 1;\n",
    "    }\n",
    "\n",
    "    // Define a CONTEXT structure to store the thread context\n",
    "    CONTEXT context;\n",
    "    context.ContextFlags = CONTEXT_FULL; // Retrieve full context\n",
    "\n",
    "    // Get the current context of the target thread\n",
    "    if (!GetThreadContext(hThread, &context)) {\n",
    "        std::cerr << \"GetThreadContext failed. Error code: \" << GetLastError() << std::endl;\n",
    "        CloseHandle(hThread);\n",
    "        CloseHandle(hProcess);\n",
    "        return 1;\n",
    "    }\n",
    "\n",
    "    // Modify the context as needed\n",
    "    // For example, you can change register values or flags in the 'context' structure here\n",
    "\n",
    "    // Set the modified context back to the target thread\n",
    "    if (!SetThreadContext(hThread, &context)) {\n",
    "        std::cerr << \"SetThreadContext failed. Error code: \" << GetLastError() << std::endl;\n",
    "        CloseHandle(hThread);\n",
    "        CloseHandle(hProcess);\n",
    "        return 1;\n",
    "    }\n",
    "\n",
    "    std::cout << \"Thread context modified successfully.\" << std::endl;\n",
    "\n",
    "    // Close handles when done\n",
    "    CloseHandle(hThread);\n",
    "    CloseHandle(hProcess);\n",
    "\n",
    "    return 0;\n",
    "}"
   ]
  },
  {
   "cell_type": "markdown",
   "metadata": {},
   "source": [
    "## Antrian PenggunaAPC"
   ]
  },
  {
   "cell_type": "markdown",
   "metadata": {},
   "source": [
    "QueueUserAPC (Asynchronous Procedure Call) API di C++ digunakan untuk mengantri fungsi yang ditentukan pengguna untuk dieksekusi dalam ruang alamat thread tertentu. Ini dapat berguna dalam pengujian keamanan siber dan penetrasi ketika Anda perlu memasukkan dan mengeksekusi kode dalam proses target untuk berbagai tujuan. Namun, perlu diketahui bahwa memanipulasi proses jarak jauh tanpa izin yang sesuai dapat menimbulkan implikasi hukum dan etika yang serius. Berikut ini contoh cara menggunakan QueueUserAPC:"
   ]
  },
  {
   "cell_type": "code",
   "execution_count": null,
   "metadata": {
    "vscode": {
     "languageId": "cpp"
    }
   },
   "outputs": [],
   "source": [
    "#include <windows.h>\n",
    "#include <iostream>\n",
    "\n",
    "// Define a custom APC function to be executed within the target thread\n",
    "VOID CALLBACK CustomAPCFunction(ULONG_PTR dwParam) {\n",
    "    // Code to be executed within the target thread\n",
    "    std::cout << \"Custom APC function executed within the target thread.\" << std::endl;\n",
    "}\n",
    "\n",
    "int main() {\n",
    "    DWORD processId; // Replace with the target process ID\n",
    "    HANDLE hProcess, hThread;\n",
    "\n",
    "    // Replace 'processId' with the PID of the target process\n",
    "    processId = 1234; // Example PID\n",
    "\n",
    "    // Open the target process with PROCESS_ALL_ACCESS access rights\n",
    "    hProcess = OpenProcess(PROCESS_ALL_ACCESS, FALSE, processId);\n",
    "\n",
    "    if (hProcess == NULL) {\n",
    "        std::cerr << \"Failed to open the target process. Error code: \" << GetLastError() << std::endl;\n",
    "        return 1;\n",
    "    }\n",
    "\n",
    "    // Open a thread within the target process (e.g., the primary thread)\n",
    "    hThread = OpenThread(THREAD_ALL_ACCESS, FALSE, GetCurrentThreadId()); // Replace with the target thread ID\n",
    "\n",
    "    if (hThread == NULL) {\n",
    "        std::cerr << \"Failed to open the target thread. Error code: \" << GetLastError() << std::endl;\n",
    "        CloseHandle(hProcess);\n",
    "        return 1;\n",
    "    }\n",
    "\n",
    "    // Queue the custom APC function to be executed within the target thread\n",
    "    if (QueueUserAPC(CustomAPCFunction, hThread, 0)) {\n",
    "        std::cout << \"APC function queued successfully.\" << std::endl;\n",
    "\n",
    "        // Trigger the APC by suspending and resuming the target thread\n",
    "        SuspendThread(hThread);\n",
    "        ResumeThread(hThread);\n",
    "    } else {\n",
    "        std::cerr << \"QueueUserAPC failed. Error code: \" << GetLastError() << std::endl;\n",
    "    }\n",
    "\n",
    "    // Close handles when done\n",
    "    CloseHandle(hThread);\n",
    "    CloseHandle(hProcess);\n",
    "\n",
    "    return 0;\n",
    "}"
   ]
  },
  {
   "cell_type": "markdown",
   "metadata": {},
   "source": [
    "## BuatRemoteThread"
   ]
  },
  {
   "cell_type": "markdown",
   "metadata": {},
   "source": [
    "CreateRemoteThread API di C++ digunakan untuk membuat thread baru dalam ruang alamat proses jarak jauh tertentu, memungkinkan Anda memasukkan dan mengeksekusi kode dalam proses tersebut. Hal ini dapat berguna dalam pengujian keamanan siber dan penetrasi ketika Anda perlu memanipulasi atau menganalisis perilaku proses target. Namun, perlu diketahui bahwa memanipulasi proses jarak jauh tanpa izin yang sesuai dapat menimbulkan implikasi hukum dan etika yang serius. Berikut ini contoh cara menggunakan CreateRemoteThread:"
   ]
  },
  {
   "cell_type": "code",
   "execution_count": null,
   "metadata": {
    "vscode": {
     "languageId": "cpp"
    }
   },
   "outputs": [],
   "source": [
    "#include <windows.h>\n",
    "#include <iostream>\n",
    "\n",
    "int main() {\n",
    "    DWORD processId; // Replace with the target process ID\n",
    "    HANDLE hProcess;\n",
    "\n",
    "    // Replace 'processId' with the PID of the target process\n",
    "    processId = 1234; // Example PID\n",
    "\n",
    "    // Open the target process with PROCESS_ALL_ACCESS access rights\n",
    "    hProcess = OpenProcess(PROCESS_ALL_ACCESS, FALSE, processId);\n",
    "\n",
    "    if (hProcess == NULL) {\n",
    "        std::cerr << \"Failed to open the target process. Error code: \" << GetLastError() << std::endl;\n",
    "        return 1;\n",
    "    }\n",
    "\n",
    "    // Define the code to be executed within the target process\n",
    "    // In this example, we create a simple thread that displays a message box\n",
    "    const char* codeToInject = R\"(\n",
    "        #include <windows.h>\n",
    "        int main() {\n",
    "            MessageBoxA(NULL, \"Injected Code\", \"Injection Example\", MB_ICONINFORMATION);\n",
    "            return 0;\n",
    "        }\n",
    "    )\";\n",
    "\n",
    "    // Allocate memory within the target process for the code\n",
    "    LPVOID pRemoteCode = VirtualAllocEx(hProcess, NULL, strlen(codeToInject) + 1, MEM_COMMIT, PAGE_EXECUTE_READWRITE);\n",
    "\n",
    "    if (pRemoteCode == NULL) {\n",
    "        std::cerr << \"Failed to allocate memory in the target process. Error code: \" << GetLastError() << std::endl;\n",
    "        CloseHandle(hProcess);\n",
    "        return 1;\n",
    "    }\n",
    "\n",
    "    // Write the code to the allocated memory\n",
    "    if (!WriteProcessMemory(hProcess, pRemoteCode, codeToInject, strlen(codeToInject) + 1, NULL)) {\n",
    "        std::cerr << \"Failed to write code to the target process. Error code: \" << GetLastError() << std::endl;\n",
    "        VirtualFreeEx(hProcess, pRemoteCode, 0, MEM_RELEASE);\n",
    "        CloseHandle(hProcess);\n",
    "        return 1;\n",
    "    }\n",
    "\n",
    "    // Create a remote thread within the target process to execute the code\n",
    "    HANDLE hRemoteThread = CreateRemoteThread(hProcess, NULL, 0, (LPTHREAD_START_ROUTINE)pRemoteCode, NULL, 0, NULL);\n",
    "\n",
    "    if (hRemoteThread == NULL) {\n",
    "        std::cerr << \"Failed to create a remote thread in the target process. Error code: \" << GetLastError() << std::endl;\n",
    "        VirtualFreeEx(hProcess, pRemoteCode, 0, MEM_RELEASE);\n",
    "        CloseHandle(hProcess);\n",
    "        return 1;\n",
    "    }\n",
    "\n",
    "    std::cout << \"Remote thread created successfully.\" << std::endl;\n",
    "\n",
    "    // Wait for the remote thread to finish\n",
    "    WaitForSingleObject(hRemoteThread, INFINITE);\n",
    "\n",
    "    // Close handles when done\n",
    "    CloseHandle(hRemoteThread);\n",
    "    VirtualFreeEx(hProcess, pRemoteCode, 0, MEM_RELEASE);\n",
    "    CloseHandle(hProcess);\n",
    "\n",
    "    return 0;\n",
    "}"
   ]
  }
 ],
 "metadata": {
  "language_info": {
   "name": "python"
  }
 },
 "nbformat": 4,
 "nbformat_minor": 2
}
